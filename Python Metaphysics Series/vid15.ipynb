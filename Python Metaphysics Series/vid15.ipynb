{
 "cells": [
  {
   "cell_type": "code",
   "execution_count": 1,
   "metadata": {},
   "outputs": [],
   "source": [
    "import numpy as np\n",
    "import sympy as smp\n",
    "from scipy.integrate import odeint\n",
    "import matplotlib.pyplot as plt\n",
    "from matplotlib import animation\n",
    "from mpl_toolkits.mplot3d import Axes3D\n",
    "from matplotlib.animation import PillowWriter"
   ]
  },
  {
   "cell_type": "markdown",
   "metadata": {},
   "source": [
    "## Preliminary\n",
    "\n",
    "Suppose we have the Lagrangian\n",
    "\n",
    "$$L = \\frac{1}{2} m_1 (\\dot{x}_1^2+\\dot{y}_1^2) +  \\frac{1}{2} m_2 (\\dot{x}_2^2+\\dot{y}_2^2) -m_1gy_1 - m_2gy_2 $$\n",
    "\n",
    "We can remove some degrees of freedom by dividing by $m_1$ and some characteristic length $A$ of the problem\n",
    "\n",
    "$$\\frac{L}{A^2 m_1} = \\frac{1}{2} \\left(\\left(\\dot{\\frac{x_1}{A}}\\right)^2+\\left(\\dot{\\frac{y_1}{A}}\\right)^2 \\right) + \\frac{1}{2} \\frac{m_2}{m_1}\\left(\\left(\\dot{\\frac{x_2}{A}}\\right)^2+\\left(\\dot{\\frac{y_2}{A}}\\right)^2 \\right) -\\frac{g}{A}\\frac{y_1}{A} - \\frac{m_2}{m_1}\\frac{g}{A}\\frac{y_2}{A} $$\n",
    "\n",
    "This might look more complicated, by defining $m = m_2/m_1$ and putting primes such that $x' = x/A$ we get\n",
    "\n",
    "$$\\frac{L}{A^2 m_1} = \\frac{1}{2} (\\dot{x'}_1^2+\\dot{y'}_1^2) +  \\frac{1}{2} m (\\dot{x'}_2^2+\\dot{y'}_2^2) -g'y_1' - mg'y_2' $$\n",
    "\n",
    "Note that $\\frac{L}{A^2 m_1}$ produces the same equations of motion as $L$ (for any $C$, $CL$ produces the same equations of motion as $L$). Thus we can solve the Lagrangian problem above, and then put in any values of $A$ and $m_1$ we want afterwards, and scale appropriately."
   ]
  },
  {
   "cell_type": "markdown",
   "metadata": {},
   "source": [
    "## The Problem\n",
    "\n",
    "The driven double pendulum with masses $m_1=1$ and $m_2=m$ and arm-lengths $L_1$ and $L_2$ has it upper arm connector to a motor that displaces the base with at $\\cos(\\omega t)$ where $\\omega$ is the driving frequency.\n",
    "\n",
    "<p align=\"center\">\n",
    "  <img src=\"../images/vid15_p1.PNG\" alt=\"drawing\" width=\"300\" align=\"center\"/>\n",
    "</p>"
   ]
  },
  {
   "cell_type": "markdown",
   "metadata": {},
   "source": [
    "and thus\n",
    "\n",
    "* $x_1 = \\cos(\\omega t) + L_1 \\sin(\\theta_1)$\n",
    "* $x_2 = \\cos(\\omega t) + L_1 \\sin(\\theta_1) + L_2 \\sin(\\theta_2)$\n",
    "* $y_1 = -L_1 \\cos(\\theta_1)$\n",
    "* $y_2 = -L_1 \\cos(\\theta_1)-L_2 \\cos(\\theta_2)$"
   ]
  },
  {
   "cell_type": "markdown",
   "metadata": {},
   "source": [
    "Define required variables for sympy"
   ]
  },
  {
   "cell_type": "code",
   "execution_count": 2,
   "metadata": {},
   "outputs": [],
   "source": [
    "t, m, g, L1, L2, w, C, alph, beta = smp.symbols(r't m g L_1, L_2 \\omega C \\alpha \\beta')"
   ]
  },
  {
   "cell_type": "markdown",
   "metadata": {},
   "source": [
    "Define $\\theta_1(t)$ and $\\theta_2(t)$ and declare them functions of time. Also get their first and second derivatives."
   ]
  },
  {
   "cell_type": "code",
   "execution_count": 3,
   "metadata": {},
   "outputs": [],
   "source": [
    "the1, the2, =  smp.symbols(r'\\theta_1, \\theta_2 ', cls=smp.Function)\n",
    "\n",
    "the1 = the1(t)\n",
    "the1_d = smp.diff(the1, t)\n",
    "the1_dd = smp.diff(the1_d, t)\n",
    "\n",
    "the2 = the2(t)\n",
    "the2_d = smp.diff(the2, t)\n",
    "the2_dd = smp.diff(smp.diff(the2, t), t)"
   ]
  },
  {
   "cell_type": "markdown",
   "metadata": {},
   "source": [
    "Declare $x_1(\\theta_1)$, $y_1(\\theta_1)$ and $x_2(\\theta_1, \\theta_2)$, $y_2(\\theta_1, \\theta_2)$"
   ]
  },
  {
   "cell_type": "code",
   "execution_count": 4,
   "metadata": {},
   "outputs": [],
   "source": [
    "x1, y1, x2, y2 = smp.symbols('x_1, y_1, x_2, y_2', cls=smp.Function)\n",
    "x1= x1(t, the1)\n",
    "y1= y1(t, the1)\n",
    "x2= x2(t, the1, the2)\n",
    "y2= y2(t, the1, the2)"
   ]
  },
  {
   "cell_type": "markdown",
   "metadata": {},
   "source": [
    "Put in the specific functional form of $x_1$, $y_1$, $x_2$, $y_2$"
   ]
  },
  {
   "cell_type": "code",
   "execution_count": 5,
   "metadata": {},
   "outputs": [],
   "source": [
    "x1 = smp.cos(w*t)+L1*smp.sin(the1)\n",
    "y1 = -L1*smp.cos(the1)\n",
    "x2 = smp.cos(w*t)+L1*smp.sin(the1) + L2*smp.sin(the2)\n",
    "y2 = -L1*smp.cos(the1) -L2*smp.cos(the2)"
   ]
  },
  {
   "cell_type": "markdown",
   "metadata": {},
   "source": [
    "Define numerical functions for $v_{x1}$, $v_{y1}$, $v_{x2}$, $v_{y1}$"
   ]
  },
  {
   "cell_type": "code",
   "execution_count": 6,
   "metadata": {},
   "outputs": [
    {
     "data": {
      "text/latex": [
       "$\\displaystyle L_{1} \\cos{\\left(\\theta_{1}{\\left(t \\right)} \\right)} \\frac{d}{d t} \\theta_{1}{\\left(t \\right)} - \\omega \\sin{\\left(\\omega t \\right)}$"
      ],
      "text/plain": [
       "L_1*cos(\\theta_1(t))*Derivative(\\theta_1(t), t) - \\omega*sin(\\omega*t)"
      ]
     },
     "execution_count": 6,
     "metadata": {},
     "output_type": "execute_result"
    }
   ],
   "source": [
    "smp.diff(x1, t)"
   ]
  },
  {
   "cell_type": "code",
   "execution_count": 7,
   "metadata": {},
   "outputs": [],
   "source": [
    "vx1_f = smp.lambdify((t,w,L1,L2,the1,the2,the1_d,the2_d), smp.diff(x1, t))\n",
    "vx2_f = smp.lambdify((t,w,L1,L2,the1,the2,the1_d,the2_d), smp.diff(x2, t))\n",
    "vy1_f = smp.lambdify((t,w,L1,L2,the1,the2,the1_d,the2_d), smp.diff(y1, t))\n",
    "vy2_f = smp.lambdify((t,w,L1,L2,the1,the2,the1_d,the2_d), smp.diff(y2, t))"
   ]
  },
  {
   "cell_type": "markdown",
   "metadata": {},
   "source": [
    "Define kinetic energy $T$, potential energy $V$, and Lagrangian $L=T-V$"
   ]
  },
  {
   "cell_type": "code",
   "execution_count": 8,
   "metadata": {},
   "outputs": [],
   "source": [
    "T = 1/2 * (smp.diff(x1, t)**2 + smp.diff(y1, t)**2) + \\\n",
    "    1/2 * m  *(smp.diff(x2, t)**2 + + smp.diff(y2, t)**2)\n",
    "V = g*y1 + m*g*y2\n",
    "L = T-V"
   ]
  },
  {
   "cell_type": "markdown",
   "metadata": {},
   "source": [
    "Solve Lagranges Equations\n",
    "\n",
    "$$\\frac{\\partial L}{ \\partial \\theta} - \\frac{d}{dt}\\frac{\\partial L}{ \\partial \\dot{\\theta}} = 0$$"
   ]
  },
  {
   "cell_type": "code",
   "execution_count": 9,
   "metadata": {},
   "outputs": [],
   "source": [
    "LE1 = smp.diff(L, the1) - smp.diff(smp.diff(L, the1_d), t)\n",
    "LE1 = LE1.simplify()\n",
    "\n",
    "LE2 = smp.diff(L, the2) - smp.diff(smp.diff(L, the2_d), t)\n",
    "LE2 = LE2.simplify()"
   ]
  },
  {
   "cell_type": "code",
   "execution_count": 10,
   "metadata": {},
   "outputs": [
    {
     "data": {
      "text/latex": [
       "$\\displaystyle 1.0 L_{1} \\left(- L_{1} m \\frac{d^{2}}{d t^{2}} \\theta_{1}{\\left(t \\right)} - L_{1} \\frac{d^{2}}{d t^{2}} \\theta_{1}{\\left(t \\right)} - L_{2} m \\sin{\\left(\\theta_{1}{\\left(t \\right)} - \\theta_{2}{\\left(t \\right)} \\right)} \\left(\\frac{d}{d t} \\theta_{2}{\\left(t \\right)}\\right)^{2} - L_{2} m \\cos{\\left(\\theta_{1}{\\left(t \\right)} - \\theta_{2}{\\left(t \\right)} \\right)} \\frac{d^{2}}{d t^{2}} \\theta_{2}{\\left(t \\right)} + \\omega^{2} m \\cos{\\left(\\omega t \\right)} \\cos{\\left(\\theta_{1}{\\left(t \\right)} \\right)} + \\omega^{2} \\cos{\\left(\\omega t \\right)} \\cos{\\left(\\theta_{1}{\\left(t \\right)} \\right)} - g m \\sin{\\left(\\theta_{1}{\\left(t \\right)} \\right)} - g \\sin{\\left(\\theta_{1}{\\left(t \\right)} \\right)}\\right)$"
      ],
      "text/plain": [
       "1.0*L_1*(-L_1*m*Derivative(\\theta_1(t), (t, 2)) - L_1*Derivative(\\theta_1(t), (t, 2)) - L_2*m*sin(\\theta_1(t) - \\theta_2(t))*Derivative(\\theta_2(t), t)**2 - L_2*m*cos(\\theta_1(t) - \\theta_2(t))*Derivative(\\theta_2(t), (t, 2)) + \\omega**2*m*cos(\\omega*t)*cos(\\theta_1(t)) + \\omega**2*cos(\\omega*t)*cos(\\theta_1(t)) - g*m*sin(\\theta_1(t)) - g*sin(\\theta_1(t)))"
      ]
     },
     "execution_count": 10,
     "metadata": {},
     "output_type": "execute_result"
    }
   ],
   "source": [
    "LE1"
   ]
  },
  {
   "cell_type": "code",
   "execution_count": 11,
   "metadata": {},
   "outputs": [
    {
     "data": {
      "text/latex": [
       "$\\displaystyle 1.0 L_{2} m \\left(L_{1} \\sin{\\left(\\theta_{1}{\\left(t \\right)} - \\theta_{2}{\\left(t \\right)} \\right)} \\left(\\frac{d}{d t} \\theta_{1}{\\left(t \\right)}\\right)^{2} - L_{1} \\cos{\\left(\\theta_{1}{\\left(t \\right)} - \\theta_{2}{\\left(t \\right)} \\right)} \\frac{d^{2}}{d t^{2}} \\theta_{1}{\\left(t \\right)} - L_{2} \\frac{d^{2}}{d t^{2}} \\theta_{2}{\\left(t \\right)} + \\omega^{2} \\cos{\\left(\\omega t \\right)} \\cos{\\left(\\theta_{2}{\\left(t \\right)} \\right)} - g \\sin{\\left(\\theta_{2}{\\left(t \\right)} \\right)}\\right)$"
      ],
      "text/plain": [
       "1.0*L_2*m*(L_1*sin(\\theta_1(t) - \\theta_2(t))*Derivative(\\theta_1(t), t)**2 - L_1*cos(\\theta_1(t) - \\theta_2(t))*Derivative(\\theta_1(t), (t, 2)) - L_2*Derivative(\\theta_2(t), (t, 2)) + \\omega**2*cos(\\omega*t)*cos(\\theta_2(t)) - g*sin(\\theta_2(t)))"
      ]
     },
     "execution_count": 11,
     "metadata": {},
     "output_type": "execute_result"
    }
   ],
   "source": [
    "LE2"
   ]
  },
  {
   "cell_type": "markdown",
   "metadata": {},
   "source": [
    "Since these are both equal to zero and linear in terms of $\\partial_t^2 \\theta_1$ and $\\partial_t^2 \\theta_2$, we can solve for everything in terms of $\\partial_t^2 \\theta_1$ and $\\partial_t^2 \\theta_2$ (this gives us two coupled second order ODEs)"
   ]
  },
  {
   "cell_type": "code",
   "execution_count": 12,
   "metadata": {},
   "outputs": [
    {
     "data": {
      "text/latex": [
       "$\\displaystyle \\frac{L_{1} m \\sin{\\left(\\theta_{1}{\\left(t \\right)} - \\theta_{2}{\\left(t \\right)} \\right)} \\cos{\\left(\\theta_{1}{\\left(t \\right)} - \\theta_{2}{\\left(t \\right)} \\right)} \\left(\\frac{d}{d t} \\theta_{1}{\\left(t \\right)}\\right)^{2}}{L_{1} m \\cos^{2}{\\left(\\theta_{1}{\\left(t \\right)} - \\theta_{2}{\\left(t \\right)} \\right)} - L_{1} m - L_{1}} + \\frac{L_{2} m \\sin{\\left(\\theta_{1}{\\left(t \\right)} - \\theta_{2}{\\left(t \\right)} \\right)} \\left(\\frac{d}{d t} \\theta_{2}{\\left(t \\right)}\\right)^{2}}{L_{1} m \\cos^{2}{\\left(\\theta_{1}{\\left(t \\right)} - \\theta_{2}{\\left(t \\right)} \\right)} - L_{1} m - L_{1}} + \\frac{\\omega^{2} m \\cos{\\left(\\omega t \\right)} \\cos{\\left(\\theta_{1}{\\left(t \\right)} - \\theta_{2}{\\left(t \\right)} \\right)} \\cos{\\left(\\theta_{2}{\\left(t \\right)} \\right)}}{L_{1} m \\cos^{2}{\\left(\\theta_{1}{\\left(t \\right)} - \\theta_{2}{\\left(t \\right)} \\right)} - L_{1} m - L_{1}} - \\frac{\\omega^{2} m \\cos{\\left(\\omega t \\right)} \\cos{\\left(\\theta_{1}{\\left(t \\right)} \\right)}}{L_{1} m \\cos^{2}{\\left(\\theta_{1}{\\left(t \\right)} - \\theta_{2}{\\left(t \\right)} \\right)} - L_{1} m - L_{1}} - \\frac{\\omega^{2} \\cos{\\left(\\omega t \\right)} \\cos{\\left(\\theta_{1}{\\left(t \\right)} \\right)}}{L_{1} m \\cos^{2}{\\left(\\theta_{1}{\\left(t \\right)} - \\theta_{2}{\\left(t \\right)} \\right)} - L_{1} m - L_{1}} + \\frac{g m \\sin{\\left(\\theta_{1}{\\left(t \\right)} \\right)}}{L_{1} m \\cos^{2}{\\left(\\theta_{1}{\\left(t \\right)} - \\theta_{2}{\\left(t \\right)} \\right)} - L_{1} m - L_{1}} - \\frac{g m \\sin{\\left(\\theta_{2}{\\left(t \\right)} \\right)} \\cos{\\left(\\theta_{1}{\\left(t \\right)} - \\theta_{2}{\\left(t \\right)} \\right)}}{L_{1} m \\cos^{2}{\\left(\\theta_{1}{\\left(t \\right)} - \\theta_{2}{\\left(t \\right)} \\right)} - L_{1} m - L_{1}} + \\frac{g \\sin{\\left(\\theta_{1}{\\left(t \\right)} \\right)}}{L_{1} m \\cos^{2}{\\left(\\theta_{1}{\\left(t \\right)} - \\theta_{2}{\\left(t \\right)} \\right)} - L_{1} m - L_{1}}$"
      ],
      "text/plain": [
       "L_1*m*sin(\\theta_1(t) - \\theta_2(t))*cos(\\theta_1(t) - \\theta_2(t))*Derivative(\\theta_1(t), t)**2/(L_1*m*cos(\\theta_1(t) - \\theta_2(t))**2 - L_1*m - L_1) + L_2*m*sin(\\theta_1(t) - \\theta_2(t))*Derivative(\\theta_2(t), t)**2/(L_1*m*cos(\\theta_1(t) - \\theta_2(t))**2 - L_1*m - L_1) + \\omega**2*m*cos(\\omega*t)*cos(\\theta_1(t) - \\theta_2(t))*cos(\\theta_2(t))/(L_1*m*cos(\\theta_1(t) - \\theta_2(t))**2 - L_1*m - L_1) - \\omega**2*m*cos(\\omega*t)*cos(\\theta_1(t))/(L_1*m*cos(\\theta_1(t) - \\theta_2(t))**2 - L_1*m - L_1) - \\omega**2*cos(\\omega*t)*cos(\\theta_1(t))/(L_1*m*cos(\\theta_1(t) - \\theta_2(t))**2 - L_1*m - L_1) + g*m*sin(\\theta_1(t))/(L_1*m*cos(\\theta_1(t) - \\theta_2(t))**2 - L_1*m - L_1) - g*m*sin(\\theta_2(t))*cos(\\theta_1(t) - \\theta_2(t))/(L_1*m*cos(\\theta_1(t) - \\theta_2(t))**2 - L_1*m - L_1) + g*sin(\\theta_1(t))/(L_1*m*cos(\\theta_1(t) - \\theta_2(t))**2 - L_1*m - L_1)"
      ]
     },
     "execution_count": 12,
     "metadata": {},
     "output_type": "execute_result"
    }
   ],
   "source": [
    "sols = smp.solve([LE1, LE2], (the1_dd, the2_dd),\n",
    "                simplify=False, rational=False)\n",
    "\n",
    "sols[the1_dd] #d^2 / dt^2 theta_1"
   ]
  },
  {
   "cell_type": "markdown",
   "metadata": {},
   "source": [
    "Can we find driving frequencies that result in resonance. For simplicity:\n",
    "\n",
    "* Assume small angle approximation for $\\theta_1$ and $\\theta_2$\n",
    "* Assume $\\theta_1$ and $\\theta_2$ have solutions $\\theta_1(t) = C\\cos(\\omega t)$ and $\\theta_2(t) = C \\alpha \\cos(\\omega t)$"
   ]
  },
  {
   "cell_type": "code",
   "execution_count": 13,
   "metadata": {},
   "outputs": [
    {
     "data": {
      "text/latex": [
       "$\\displaystyle 1.0 L_{1} \\left(- L_{1} m \\frac{d^{2}}{d t^{2}} \\theta_{1}{\\left(t \\right)} - L_{1} \\frac{d^{2}}{d t^{2}} \\theta_{1}{\\left(t \\right)} - L_{2} m \\sin{\\left(\\theta_{1}{\\left(t \\right)} - \\theta_{2}{\\left(t \\right)} \\right)} \\left(\\frac{d}{d t} \\theta_{2}{\\left(t \\right)}\\right)^{2} - L_{2} m \\cos{\\left(\\theta_{1}{\\left(t \\right)} - \\theta_{2}{\\left(t \\right)} \\right)} \\frac{d^{2}}{d t^{2}} \\theta_{2}{\\left(t \\right)} + \\omega^{2} m \\cos{\\left(\\omega t \\right)} \\cos{\\left(\\theta_{1}{\\left(t \\right)} \\right)} + \\omega^{2} \\cos{\\left(\\omega t \\right)} \\cos{\\left(\\theta_{1}{\\left(t \\right)} \\right)} - g m \\sin{\\left(\\theta_{1}{\\left(t \\right)} \\right)} - g \\sin{\\left(\\theta_{1}{\\left(t \\right)} \\right)}\\right)$"
      ],
      "text/plain": [
       "1.0*L_1*(-L_1*m*Derivative(\\theta_1(t), (t, 2)) - L_1*Derivative(\\theta_1(t), (t, 2)) - L_2*m*sin(\\theta_1(t) - \\theta_2(t))*Derivative(\\theta_2(t), t)**2 - L_2*m*cos(\\theta_1(t) - \\theta_2(t))*Derivative(\\theta_2(t), (t, 2)) + \\omega**2*m*cos(\\omega*t)*cos(\\theta_1(t)) + \\omega**2*cos(\\omega*t)*cos(\\theta_1(t)) - g*m*sin(\\theta_1(t)) - g*sin(\\theta_1(t)))"
      ]
     },
     "execution_count": 13,
     "metadata": {},
     "output_type": "execute_result"
    }
   ],
   "source": [
    "LE1"
   ]
  },
  {
   "cell_type": "code",
   "execution_count": 14,
   "metadata": {},
   "outputs": [],
   "source": [
    "a = LE1.subs([(smp.sin(the1-the2), the1-the2),\n",
    "         (smp.cos(the1-the2), 1),\n",
    "         (smp.cos(the1), 1),\n",
    "         (smp.sin(the1), the1),\n",
    "         (the1, C*smp.cos(w*t)),\n",
    "         (the2, C*alph*smp.cos(w*t)),\n",
    "         (m, 1),\n",
    "         (L2, L1),\n",
    "         ]).doit().series(C, 0, 2).removeO().simplify()"
   ]
  },
  {
   "cell_type": "code",
   "execution_count": 15,
   "metadata": {},
   "outputs": [],
   "source": [
    "b = LE2.subs([(smp.sin(the1-the2), the1-the2),\n",
    "         (smp.cos(the1-the2), 1),\n",
    "         (smp.cos(the1), 1),\n",
    "         (smp.cos(the2), 1),\n",
    "         (smp.sin(the1), the1),\n",
    "         (smp.sin(the2), the2), \n",
    "         (the1, C*smp.cos(w*t)),\n",
    "         (the2, C*alph*smp.cos(w*t)),\n",
    "         (m, 1),\n",
    "         (L2, L1),\n",
    "         ]).doit().series(C, 0, 2).removeO().simplify()"
   ]
  },
  {
   "cell_type": "code",
   "execution_count": 16,
   "metadata": {},
   "outputs": [],
   "source": [
    "yeet = smp.solve([a.args[1], b.args[2]], (w, alph))"
   ]
  },
  {
   "cell_type": "code",
   "execution_count": 17,
   "metadata": {},
   "outputs": [
    {
     "data": {
      "text/latex": [
       "$\\displaystyle - \\sqrt{- \\frac{C g \\left(-2.0 + \\frac{1.4142135623731 \\left(C^{2} L_{1}^{2} + C L_{1} + 0.5\\right)^{0.5}}{C L_{1}} - \\frac{1}{C L_{1}}\\right)}{C L_{1} + 1.0}}$"
      ],
      "text/plain": [
       "-sqrt(-C*g*(-2.0 + 1.4142135623731*(C**2*L_1**2 + C*L_1 + 0.5)**0.5/(C*L_1) - 1/(C*L_1))/(C*L_1 + 1.0))"
      ]
     },
     "execution_count": 17,
     "metadata": {},
     "output_type": "execute_result"
    }
   ],
   "source": [
    "yeet[2][0]"
   ]
  },
  {
   "cell_type": "markdown",
   "metadata": {},
   "source": [
    "Now set $\\beta = CL_1$ and take the limit as $\\beta \\to \\infty$."
   ]
  },
  {
   "cell_type": "code",
   "execution_count": 18,
   "metadata": {},
   "outputs": [
    {
     "data": {
      "text/latex": [
       "$\\displaystyle - \\sqrt{- \\frac{C g \\left(-2.0 - \\frac{1.4142135623731 \\left(C^{2} L_{1}^{2} + C L_{1} + 0.5\\right)^{0.5}}{C L_{1}} - \\frac{1}{C L_{1}}\\right)}{C L_{1} + 1.0}}$"
      ],
      "text/plain": [
       "-sqrt(-C*g*(-2.0 - 1.4142135623731*(C**2*L_1**2 + C*L_1 + 0.5)**0.5/(C*L_1) - 1/(C*L_1))/(C*L_1 + 1.0))"
      ]
     },
     "execution_count": 18,
     "metadata": {},
     "output_type": "execute_result"
    }
   ],
   "source": [
    "yeet[0][0]"
   ]
  },
  {
   "cell_type": "code",
   "execution_count": 19,
   "metadata": {},
   "outputs": [
    {
     "data": {
      "text/latex": [
       "$\\displaystyle \\frac{3 \\sqrt{37935706248590} \\sqrt{\\frac{g}{L_{1}}}}{10000000}$"
      ],
      "text/plain": [
       "3*sqrt(37935706248590)*sqrt(g/L_1)/10000000"
      ]
     },
     "execution_count": 19,
     "metadata": {},
     "output_type": "execute_result"
    }
   ],
   "source": [
    "smp.limit(yeet[1][0].subs(C, beta/L1).simplify(), beta, smp.oo)"
   ]
  },
  {
   "cell_type": "markdown",
   "metadata": {},
   "source": [
    "# Switch to Numerical"
   ]
  },
  {
   "cell_type": "markdown",
   "metadata": {},
   "source": [
    "Define the equations\n",
    "\n",
    "* $\\frac{d^2 \\theta}{dt^2} = \\frac{d \\zeta}{dt} = \\text{solution to above}$\n",
    "* $\\frac{d \\theta}{dt} = \\zeta$\n",
    "\n",
    "for each of $\\theta \\in (\\theta_1, \\theta_2)$"
   ]
  },
  {
   "cell_type": "code",
   "execution_count": 20,
   "metadata": {},
   "outputs": [],
   "source": [
    "dz1dt_f = smp.lambdify((t, m, g, w, L1, L2, the1, the2, the1_d, the2_d), sols[the1_dd])\n",
    "dthe1dt_f = smp.lambdify(the1_d, the1_d)\n",
    "\n",
    "dz2dt_f = smp.lambdify((t, m, g, w, L1, L2, the1, the2, the1_d, the2_d), sols[the2_dd])\n",
    "dthe2dt_f = smp.lambdify(the2_d, the2_d)"
   ]
  },
  {
   "cell_type": "markdown",
   "metadata": {},
   "source": [
    "Define the ODE system for python $ S = (\\theta_1, \\zeta_1, \\theta_2, \\zeta_2)$"
   ]
  },
  {
   "cell_type": "code",
   "execution_count": 21,
   "metadata": {},
   "outputs": [],
   "source": [
    "def dSdt(S, t):\n",
    "    the1, z1, the2, z2 = S\n",
    "    return [\n",
    "        dthe1dt_f(z1),\n",
    "        dz1dt_f(t, m, g, w, L1, L2, the1, the2, z1, z2),\n",
    "        dthe2dt_f(z2),\n",
    "        dz2dt_f(t, m, g, w, L1, L2, the1, the2, z1, z2),\n",
    "    ]"
   ]
  },
  {
   "cell_type": "markdown",
   "metadata": {},
   "source": [
    "Some numerical values to get a solution"
   ]
  },
  {
   "cell_type": "code",
   "execution_count": 22,
   "metadata": {},
   "outputs": [],
   "source": [
    "t = np.linspace(0, 20, 1000)\n",
    "g = 9.81\n",
    "m=1\n",
    "L1 = 20\n",
    "L2 = 20\n",
    "w = np.sqrt(g/L1)\n",
    "ans = odeint(dSdt, y0=[0, 0, 0, 0], t=t)"
   ]
  },
  {
   "cell_type": "markdown",
   "metadata": {},
   "source": [
    "Plot $\\theta_1(t)$"
   ]
  },
  {
   "cell_type": "code",
   "execution_count": 23,
   "metadata": {},
   "outputs": [
    {
     "data": {
      "text/plain": [
       "[<matplotlib.lines.Line2D at 0x6e789190>]"
      ]
     },
     "execution_count": 23,
     "metadata": {},
     "output_type": "execute_result"
    },
    {
     "data": {
      "image/png": "[encoded data removed]",
      "text/plain": [
       "<Figure size 640x480 with 1 Axes>"
      ]
     },
     "metadata": {},
     "output_type": "display_data"
    }
   ],
   "source": [
    "plt.plot(ans.T[0])"
   ]
  },
  {
   "cell_type": "markdown",
   "metadata": {},
   "source": [
    "Function that computes the average kinetic energy (assuming $m=1$) of the system given by\n",
    "\n",
    "$$E(\\omega) = \\text{Mean}(v_{x1}^2 + v_{y1}^2 + v_{x2}^2 + v_{y2}^2) $$\n",
    "\n",
    "where the $v$'s are computed by solving the ODE for a number of time points for a specific value of $\\omega$"
   ]
  },
  {
   "cell_type": "code",
   "execution_count": 24,
   "metadata": {},
   "outputs": [],
   "source": [
    "def get_energy(w):\n",
    "    t = np.linspace(0, 100, 2000)\n",
    "    ans = odeint(dSdt, y0=[0.1, 0.1, 0, 0], t=t)\n",
    "    vx1 = vx1_f(t,w,L1,L2,ans.T[0],ans.T[2],ans.T[1],ans.T[3])\n",
    "    vx2 = vx2_f(t,w,L1,L2,ans.T[0],ans.T[2],ans.T[1],ans.T[3])\n",
    "    vy1 = vy1_f(t,w,L1,L2,ans.T[0],ans.T[2],ans.T[1],ans.T[3])\n",
    "    vy2 = vy2_f(t,w,L1,L2,ans.T[0],ans.T[2],ans.T[1],ans.T[3])\n",
    "    E = 1/2 * np.mean(vx1**2+vx2**2+vy1**2+vy2**2)\n",
    "    return E"
   ]
  },
  {
   "cell_type": "markdown",
   "metadata": {},
   "source": [
    "Get $\\omega$'s and $E(\\omega)$"
   ]
  },
  {
   "cell_type": "code",
   "execution_count": 25,
   "metadata": {},
   "outputs": [],
   "source": [
    "ws = np.linspace(0.4, 1.3, 100)\n",
    "Es = np.vectorize(get_energy)(ws) "
   ]
  },
  {
   "cell_type": "markdown",
   "metadata": {},
   "source": [
    "Plot the kinetic energy of the system for different values of $\\omega$"
   ]
  },
  {
   "cell_type": "code",
   "execution_count": 26,
   "metadata": {},
   "outputs": [
    {
     "data": {
      "image/png": "[encoded data removed]",
      "text/plain": [
       "<Figure size 640x480 with 1 Axes>"
      ]
     },
     "metadata": {},
     "output_type": "display_data"
    }
   ],
   "source": [
    "plt.plot(ws, Es)\n",
    "plt.axvline(1.84775*np.sqrt(g/L1), c='k', ls='--')\n",
    "plt.axvline(0.76536*np.sqrt(g/L1), c='k', ls='--')\n",
    "# Tautochrone\n",
    "#plt.axvline(np.sqrt(np.pi*g**(-1/2)), c='k', ls='--')\n",
    "plt.grid()"
   ]
  },
  {
   "cell_type": "markdown",
   "metadata": {},
   "source": [
    "Solve the ODE for a particular value of $\\omega$ so we can ge the solution. Also define a function that takes in $\\theta_1(t), \\theta_2(t)$ and returns the corresponding $x$ and $y$ values of the origin, first bob, and second bob."
   ]
  },
  {
   "cell_type": "code",
   "execution_count": 27,
   "metadata": {},
   "outputs": [],
   "source": [
    "t = np.linspace(0, 200, 20000)\n",
    "g = 9.81\n",
    "m=1\n",
    "L1 = 20\n",
    "L2 = 20\n",
    "w = ws[ws>1][np.argmax(Es[ws>1])]\n",
    "ans = odeint(dSdt, y0=[0.1, 0.1, 0, 0], t=t)\n",
    "\n",
    "def get_x0y0x1y1x2y2(t, the1, the2, L1, L2):\n",
    "    return (np.cos(w*t),\n",
    "            0*t,\n",
    "            np.cos(w*t) + L1*np.sin(the1),\n",
    "            -L1*np.cos(the1),\n",
    "            np.cos(w*t) + L1*np.sin(the1) + L2*np.sin(the2),\n",
    "            -L1*np.cos(the1) - L2*np.cos(the2),\n",
    "    )\n",
    "\n",
    "x0, y0, x1, y1, x2, y2 = get_x0y0x1y1x2y2(t, ans.T[0], ans.T[2], L1, L2)"
   ]
  },
  {
   "cell_type": "markdown",
   "metadata": {},
   "source": [
    "Make an animation"
   ]
  },
  {
   "cell_type": "code",
   "execution_count": 29,
   "metadata": {},
   "outputs": [
    {
     "name": "stderr",
     "output_type": "stream",
     "text": [
      "C:\\Users\\fangy\\AppData\\Local\\Temp\\ipykernel_26636\\3713599270.py:13: UserWarning: color is redundantly defined by the 'color' keyword argument and the fmt string \"ro-\" (-> color='r'). The keyword argument will take precedence.\n",
      "  ln2, = ax.plot([], [], 'ro-',markersize = 8, alpha=0.05, color='cyan')   # line for Earth\n",
      "C:\\Users\\fangy\\AppData\\Local\\Temp\\ipykernel_26636\\3713599270.py:14: UserWarning: color is redundantly defined by the 'color' keyword argument and the fmt string \"ro-\" (-> color='r'). The keyword argument will take precedence.\n",
      "  ln3, = ax.plot([], [], 'ro-',markersize = 8,alpha=0.05, color='cyan')\n"
     ]
    },
    {
     "data": {
      "image/png": "[encoded data removed]",
      "text/plain": [
       "<Figure size 800x800 with 1 Axes>"
      ]
     },
     "metadata": {},
     "output_type": "display_data"
    }
   ],
   "source": [
    "def animate(i):\n",
    "    ln1.set_data([x0[::10][i], x1[::10][i], x2[::10][i]], [y0[::10][i], y1[::10][i], y2[::10][i]])\n",
    "    trail1 = 50            # length of motion trail of weight 1 \n",
    "    trail2 = 50            # length of motion trail of weight 2\n",
    "    ln2.set_data(x1[::10][i:max(1,i-trail1):-1], y1[::10][i:max(1,i-trail1):-1])   # marker + line of first weight\n",
    "    ln3.set_data(x2[::10][i:max(1,i-trail2):-1], y2[::10][i:max(1,i-trail2):-1])   # marker + line of the second weight\n",
    "    \n",
    "fig, ax = plt.subplots(1,1, figsize=(8,8))\n",
    "ax.set_facecolor('k')\n",
    "ax.get_xaxis().set_ticks([])    # enable this to hide x axis ticks\n",
    "ax.get_yaxis().set_ticks([])    # enable this to hide y axis ticks\n",
    "ln1, = plt.plot([], [], 'ro--', lw=3, markersize=8)\n",
    "ln2, = ax.plot([], [], 'ro-',markersize = 8, alpha=0.05, color='cyan')   # line for Earth\n",
    "ln3, = ax.plot([], [], 'ro-',markersize = 8,alpha=0.05, color='cyan')\n",
    "ax.set_ylim(-44,44)\n",
    "ax.set_xlim(-44,44)\n",
    "ani = animation.FuncAnimation(fig, animate, frames=2000, interval=50)\n",
    "ani.save('images/pen2.gif',writer='ffmpeg',fps=50)"
   ]
  }
 ],
 "metadata": {
  "kernelspec": {
   "display_name": "base",
   "language": "python",
   "name": "python3"
  },
  "language_info": {
   "codemirror_mode": {
    "name": "ipython",
    "version": 3
   },
   "file_extension": ".py",
   "mimetype": "text/x-python",
   "name": "python",
   "nbconvert_exporter": "python",
   "pygments_lexer": "ipython3",
   "version": "3.9.19"
  }
 },
 "nbformat": 4,
 "nbformat_minor": 4
}
